{
 "cells": [
  {
   "cell_type": "code",
   "execution_count": 1,
   "metadata": {},
   "outputs": [
    {
     "name": "stderr",
     "output_type": "stream",
     "text": [
      "/home/rah150030/.conda/envs/gpn2/lib/python3.9/site-packages/tqdm/auto.py:22: TqdmWarning: IProgress not found. Please update jupyter and ipywidgets. See https://ipywidgets.readthedocs.io/en/stable/user_install.html\n",
      "  from .autonotebook import tqdm as notebook_tqdm\n",
      "/home/rah150030/.conda/envs/gpn2/lib/python3.9/site-packages/torchvision/io/image.py:13: UserWarning: Failed to load image Python extension: libtorch_cuda_cu.so: cannot open shared object file: No such file or directory\n",
      "  warn(f\"Failed to load image Python extension: {e}\")\n",
      "2022-10-24 15:54:01,231\tINFO worker.py:1518 -- Started a local Ray instance.\n"
     ]
    },
    {
     "data": {
      "text/html": [
       "<div>\n",
       "    <div style=\"margin-left: 50px;display: flex;flex-direction: row;align-items: center\">\n",
       "        <h3 style=\"color: var(--jp-ui-font-color0)\">Ray</h3>\n",
       "        <svg version=\"1.1\" id=\"ray\" width=\"3em\" viewBox=\"0 0 144.5 144.6\" style=\"margin-left: 3em;margin-right: 3em\">\n",
       "            <g id=\"layer-1\">\n",
       "                <path fill=\"#00a2e9\" class=\"st0\" d=\"M97.3,77.2c-3.8-1.1-6.2,0.9-8.3,5.1c-3.5,6.8-9.9,9.9-17.4,9.6S58,88.1,54.8,81.2c-1.4-3-3-4-6.3-4.1\n",
       "                    c-5.6-0.1-9.9,0.1-13.1,6.4c-3.8,7.6-13.6,10.2-21.8,7.6C5.2,88.4-0.4,80.5,0,71.7c0.1-8.4,5.7-15.8,13.8-18.2\n",
       "                    c8.4-2.6,17.5,0.7,22.3,8c1.3,1.9,1.3,5.2,3.6,5.6c3.9,0.6,8,0.2,12,0.2c1.8,0,1.9-1.6,2.4-2.8c3.5-7.8,9.7-11.8,18-11.9\n",
       "                    c8.2-0.1,14.4,3.9,17.8,11.4c1.3,2.8,2.9,3.6,5.7,3.3c1-0.1,2,0.1,3,0c2.8-0.5,6.4,1.7,8.1-2.7s-2.3-5.5-4.1-7.5\n",
       "                    c-5.1-5.7-10.9-10.8-16.1-16.3C84,38,81.9,37.1,78,38.3C66.7,42,56.2,35.7,53,24.1C50.3,14,57.3,2.8,67.7,0.5\n",
       "                    C78.4-2,89,4.7,91.5,15.3c0.1,0.3,0.1,0.5,0.2,0.8c0.7,3.4,0.7,6.9-0.8,9.8c-1.7,3.2-0.8,5,1.5,7.2c6.7,6.5,13.3,13,19.8,19.7\n",
       "                    c1.8,1.8,3,2.1,5.5,1.2c9.1-3.4,17.9-0.6,23.4,7c4.8,6.9,4.6,16.1-0.4,22.9c-5.4,7.2-14.2,9.9-23.1,6.5c-2.3-0.9-3.5-0.6-5.1,1.1\n",
       "                    c-6.7,6.9-13.6,13.7-20.5,20.4c-1.8,1.8-2.5,3.2-1.4,5.9c3.5,8.7,0.3,18.6-7.7,23.6c-7.9,5-18.2,3.8-24.8-2.9\n",
       "                    c-6.4-6.4-7.4-16.2-2.5-24.3c4.9-7.8,14.5-11,23.1-7.8c3,1.1,4.7,0.5,6.9-1.7C91.7,98.4,98,92.3,104.2,86c1.6-1.6,4.1-2.7,2.6-6.2\n",
       "                    c-1.4-3.3-3.8-2.5-6.2-2.6C99.8,77.2,98.9,77.2,97.3,77.2z M72.1,29.7c5.5,0.1,9.9-4.3,10-9.8c0-0.1,0-0.2,0-0.3\n",
       "                    C81.8,14,77,9.8,71.5,10.2c-5,0.3-9,4.2-9.3,9.2c-0.2,5.5,4,10.1,9.5,10.3C71.8,29.7,72,29.7,72.1,29.7z M72.3,62.3\n",
       "                    c-5.4-0.1-9.9,4.2-10.1,9.7c0,0.2,0,0.3,0,0.5c0.2,5.4,4.5,9.7,9.9,10c5.1,0.1,9.9-4.7,10.1-9.8c0.2-5.5-4-10-9.5-10.3\n",
       "                    C72.6,62.3,72.4,62.3,72.3,62.3z M115,72.5c0.1,5.4,4.5,9.7,9.8,9.9c5.6-0.2,10-4.8,10-10.4c-0.2-5.4-4.6-9.7-10-9.7\n",
       "                    c-5.3-0.1-9.8,4.2-9.9,9.5C115,72.1,115,72.3,115,72.5z M19.5,62.3c-5.4,0.1-9.8,4.4-10,9.8c-0.1,5.1,5.2,10.4,10.2,10.3\n",
       "                    c5.6-0.2,10-4.9,9.8-10.5c-0.1-5.4-4.5-9.7-9.9-9.6C19.6,62.3,19.5,62.3,19.5,62.3z M71.8,134.6c5.9,0.2,10.3-3.9,10.4-9.6\n",
       "                    c0.5-5.5-3.6-10.4-9.1-10.8c-5.5-0.5-10.4,3.6-10.8,9.1c0,0.5,0,0.9,0,1.4c-0.2,5.3,4,9.8,9.3,10\n",
       "                    C71.6,134.6,71.7,134.6,71.8,134.6z\"/>\n",
       "            </g>\n",
       "        </svg>\n",
       "        <table>\n",
       "            <tr>\n",
       "                <td style=\"text-align: left\"><b>Python version:</b></td>\n",
       "                <td style=\"text-align: left\"><b>3.9.13</b></td>\n",
       "            </tr>\n",
       "            <tr>\n",
       "                <td style=\"text-align: left\"><b>Ray version:</b></td>\n",
       "                <td style=\"text-align: left\"><b> 2.0.0</b></td>\n",
       "            </tr>\n",
       "            \n",
       "        </table>\n",
       "    </div>\n",
       "</div>\n"
      ],
      "text/plain": [
       "RayContext(dashboard_url='', python_version='3.9.13', ray_version='2.0.0', ray_commit='cba26cc83f6b5b8a2ff166594a65cb74c0ec8740', address_info={'node_ip_address': '10.176.130.19', 'raylet_ip_address': '10.176.130.19', 'redis_address': None, 'object_store_address': '/tmp/ray/session_2022-10-24_15-54-00_358471_3995471/sockets/plasma_store', 'raylet_socket_name': '/tmp/ray/session_2022-10-24_15-54-00_358471_3995471/sockets/raylet', 'webui_url': '', 'session_dir': '/tmp/ray/session_2022-10-24_15-54-00_358471_3995471', 'metrics_export_port': 53464, 'gcs_address': '10.176.130.19:58582', 'address': '10.176.130.19:58582', 'dashboard_agent_listen_port': 52365, 'node_id': '5f3048bda6198292a4bafe0bdac68ed1d1d4aeabf2a8e10453ab6f41'})"
      ]
     },
     "execution_count": 1,
     "metadata": {},
     "output_type": "execute_result"
    }
   ],
   "source": [
    "from ray import tune\n",
    "import ray\n",
    "import copy\n",
    "import yaml\n",
    "import train_and_eval\n",
    "import glob\n",
    "import json\n",
    "ray.init(log_to_driver=False)"
   ]
  },
  {
   "cell_type": "code",
   "execution_count": 2,
   "metadata": {},
   "outputs": [],
   "source": [
    "def config_helper(config):\n",
    "    return train_and_eval.run_experiment(**config)"
   ]
  },
  {
   "cell_type": "code",
   "execution_count": 3,
   "metadata": {},
   "outputs": [],
   "source": [
    "with open('configs/gpn/ood_loc_gpn_16.yaml') as f:\n",
    "    config = yaml.safe_load(f)"
   ]
  },
  {
   "cell_type": "code",
   "execution_count": 4,
   "metadata": {},
   "outputs": [],
   "source": [
    "config['model']['latent_dist_reg'] = tune.grid_search([10 ** i for i in range(-8, 1)])\n",
    "config['model']['KNN_K'] = tune.grid_search([5, 10, 25])\n",
    "config['model']['normalize_dist_reg'] = tune.grid_search([False, ])\n",
    "config['model']['dist_sigma'] = tune.grid_search([10 ** i for i in range(-3, 1)])"
   ]
  },
  {
   "cell_type": "code",
   "execution_count": 5,
   "metadata": {},
   "outputs": [],
   "source": [
    "# dirs = sorted(glob.glob(\"../ray_results/ray_helper_2022*\"))\n",
    "# trials = glob.glob(dirs[-1] + \"/*\")"
   ]
  },
  {
   "cell_type": "code",
   "execution_count": 6,
   "metadata": {},
   "outputs": [],
   "source": [
    "# rocs = []\n",
    "# for a_trial in trials:\n",
    "#     if \".json\" in a_trial:\n",
    "#         continue\n",
    "#     with open(a_trial + \"/result.json\", 'r') as f:\n",
    "#         try:\n",
    "#             a_result_file = json.load(f)\n",
    "#         except:\n",
    "#             continue\n",
    "#     rocs.append(a_result_file['test_ood_detection_epistemic_auroc'])\n",
    "# max(rocs)"
   ]
  },
  {
   "cell_type": "code",
   "execution_count": 7,
   "metadata": {},
   "outputs": [
    {
     "name": "stderr",
     "output_type": "stream",
     "text": [
      "2022-10-24 15:54:10,822\tWARNING function_trainable.py:619 -- Function checkpointing is disabled. This may result in unexpected behavior when using checkpointing features or certain schedulers. To enable, set the train function arguments to be `func(config, checkpoint_dir=None)`.\n"
     ]
    },
    {
     "data": {
      "text/html": [
       "== Status ==<br>Current time: 2022-10-24 17:47:35 (running for 01:53:24.20)<br>Memory usage on this node: 89.6/754.6 GiB<br>Using FIFO scheduling algorithm.<br>Resources requested: 8.0/64 CPUs, 4.8/8 GPUs, 0.0/498.69 GiB heap, 0.0/186.26 GiB objects (0.0/1.0 accelerator_type:RTX)<br>Result logdir: /home/rah150030/ray_results/config_helper_2022-10-24_15-54-10<br>Number of trials: 8/108 (8 RUNNING)<br><table>\n",
       "<thead>\n",
       "<tr><th>Trial name               </th><th>status  </th><th>loc                  </th><th style=\"text-align: right;\">  model/KNN_K</th><th style=\"text-align: right;\">  model/dist_sigma</th><th style=\"text-align: right;\">  model/latent_dist...</th><th>model/normalize_d...  </th></tr>\n",
       "</thead>\n",
       "<tbody>\n",
       "<tr><td>config_helper_02822_00000</td><td>RUNNING </td><td>10.176.130.19:4007448</td><td style=\"text-align: right;\">            5</td><td style=\"text-align: right;\">             0.001</td><td style=\"text-align: right;\">                 1e-08</td><td>False                 </td></tr>\n",
       "<tr><td>config_helper_02822_00001</td><td>RUNNING </td><td>10.176.130.19:4007508</td><td style=\"text-align: right;\">           10</td><td style=\"text-align: right;\">             0.001</td><td style=\"text-align: right;\">                 1e-08</td><td>False                 </td></tr>\n",
       "<tr><td>config_helper_02822_00002</td><td>RUNNING </td><td>10.176.130.19:4007571</td><td style=\"text-align: right;\">           25</td><td style=\"text-align: right;\">             0.001</td><td style=\"text-align: right;\">                 1e-08</td><td>False                 </td></tr>\n",
       "<tr><td>config_helper_02822_00003</td><td>RUNNING </td><td>10.176.130.19:4007626</td><td style=\"text-align: right;\">            5</td><td style=\"text-align: right;\">             0.01 </td><td style=\"text-align: right;\">                 1e-08</td><td>False                 </td></tr>\n",
       "<tr><td>config_helper_02822_00004</td><td>RUNNING </td><td>10.176.130.19:4007681</td><td style=\"text-align: right;\">           10</td><td style=\"text-align: right;\">             0.01 </td><td style=\"text-align: right;\">                 1e-08</td><td>False                 </td></tr>\n",
       "<tr><td>config_helper_02822_00005</td><td>RUNNING </td><td>10.176.130.19:4007737</td><td style=\"text-align: right;\">           25</td><td style=\"text-align: right;\">             0.01 </td><td style=\"text-align: right;\">                 1e-08</td><td>False                 </td></tr>\n",
       "<tr><td>config_helper_02822_00006</td><td>RUNNING </td><td>10.176.130.19:4007891</td><td style=\"text-align: right;\">            5</td><td style=\"text-align: right;\">             0.1  </td><td style=\"text-align: right;\">                 1e-08</td><td>False                 </td></tr>\n",
       "<tr><td>config_helper_02822_00007</td><td>RUNNING </td><td>10.176.130.19:4007946</td><td style=\"text-align: right;\">           10</td><td style=\"text-align: right;\">             0.1  </td><td style=\"text-align: right;\">                 1e-08</td><td>False                 </td></tr>\n",
       "</tbody>\n",
       "</table><br><br>"
      ],
      "text/plain": [
       "<IPython.core.display.HTML object>"
      ]
     },
     "metadata": {},
     "output_type": "display_data"
    }
   ],
   "source": [
    "results = tune.run(\n",
    "    config_helper,\n",
    "    metric='test_ood_detection_epistemic_auroc',\n",
    "    mode=\"max\",\n",
    "    num_samples=1,\n",
    "    max_concurrent_trials=8,\n",
    "    resources_per_trial={\"gpu\": 0.6},\n",
    "    config=config,\n",
    "    max_failures=1)"
   ]
  },
  {
   "cell_type": "code",
   "execution_count": null,
   "metadata": {},
   "outputs": [],
   "source": []
  }
 ],
 "metadata": {
  "kernelspec": {
   "display_name": "Python 3.9.13 ('gpn2')",
   "language": "python",
   "name": "python3"
  },
  "language_info": {
   "codemirror_mode": {
    "name": "ipython",
    "version": 3
   },
   "file_extension": ".py",
   "mimetype": "text/x-python",
   "name": "python",
   "nbconvert_exporter": "python",
   "pygments_lexer": "ipython3",
   "version": "3.9.13"
  },
  "orig_nbformat": 4,
  "vscode": {
   "interpreter": {
    "hash": "dd7c549fabb2b127a1e4b21f6588d14147668e20339c0f349401ff861a5eefd1"
   }
  }
 },
 "nbformat": 4,
 "nbformat_minor": 2
}
